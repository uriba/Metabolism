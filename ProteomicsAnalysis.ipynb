{
 "metadata": {
  "name": ""
 },
 "nbformat": 3,
 "nbformat_minor": 0,
 "worksheets": [
  {
   "cells": [
    {
     "cell_type": "code",
     "collapsed": false,
     "input": [
      "import pandas as pd\n",
      "from math import *\n",
      "df = pd.read_excel(\"Proteomics.xlsx\",0)"
     ],
     "language": "python",
     "metadata": {},
     "outputs": [],
     "prompt_number": 20
    },
    {
     "cell_type": "code",
     "collapsed": false,
     "input": [
      "df = df[[u'Protein ID', u'Annotation',u' P-Value HF:PG_Pyr_Xyl:', u'Fold changePG_Pyr_Xyl/HF',\n",
      "         u'HF1a', u'HF1b', u'HF1c',u'PG1-pyrXyl', u'PG2-pyrXyl', u'PG5-pyrXyl']]\n",
      "res = pd.DataFrame()\n",
      "res['calc'] = df[[u'PG1-pyrXyl', u'PG2-pyrXyl', u'PG5-pyrXyl']].sum(axis=1)/df[[u'HF1a', u'HF1b', u'HF1c']].sum(axis=1)\n",
      "res['def'] = df[u'Fold changePG_Pyr_Xyl/HF']\n",
      "print(df.iloc[0])\n"
     ],
     "language": "python",
     "metadata": {},
     "outputs": [
      {
       "output_type": "stream",
       "stream": "stdout",
       "text": [
        "Protein ID                                                             U5M3E6\n",
        "Annotation                  U5M3E6_ECOLI YegR OS=Escherichia coli C321.del...\n",
        " P-Value HF:PG_Pyr_Xyl:                                              0.125576\n",
        "Fold changePG_Pyr_Xyl/HF                                         4.433909e-06\n",
        "HF1a                                                             1.306567e+08\n",
        "HF1b                                                             1.322271e+08\n",
        "HF1c                                                             1.368012e+08\n",
        "PG1-pyrXyl                                                                  1\n",
        "PG2-pyrXyl                                                       2.060166e+08\n",
        "PG5-pyrXyl                                                                  1\n",
        "Name: 0, dtype: object\n"
       ]
      }
     ],
     "prompt_number": 17
    }
   ],
   "metadata": {}
  }
 ]
}