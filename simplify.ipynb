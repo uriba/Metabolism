{
 "cells": [
  {
   "cell_type": "code",
   "execution_count": 2,
   "metadata": {
    "collapsed": false
   },
   "outputs": [],
   "source": [
    "from sympy import *\n",
    "from sympy.interactive import printing\n",
    "printing.init_printing(use_latex=True)\n",
    "\n",
    "c1,c2,fi,ka,va,kb,vb,kc,vc,kb2,vb2 = symbols('c_1 c_2 f_i k_a v_a k_b v_b k_c v_c k_d v_d')\n",
    "expr1 = Eq(0,fi+c2*vc/(c2+kc)-c1*va/(c1+ka)-c1*vb/(c1+kb))\n",
    "c2 = solve(expr1,c2)[0]"
   ]
  },
  {
   "cell_type": "code",
   "execution_count": 3,
   "metadata": {
    "collapsed": false
   },
   "outputs": [
    {
     "data": {
      "image/png": "[encoded data removed]",
      "text/latex": [
       "$$- \\frac{k_{c} \\left(c_{1}^{2} f_{i} - c_{1}^{2} v_{a} - c_{1}^{2} v_{b} + c_{1} f_{i} k_{a} + c_{1} f_{i} k_{b} - c_{1} k_{a} v_{b} - c_{1} k_{b} v_{a} + f_{i} k_{a} k_{b}\\right)}{c_{1}^{2} f_{i} - c_{1}^{2} v_{a} - c_{1}^{2} v_{b} + c_{1}^{2} v_{c} + c_{1} f_{i} k_{a} + c_{1} f_{i} k_{b} - c_{1} k_{a} v_{b} + c_{1} k_{a} v_{c} - c_{1} k_{b} v_{a} + c_{1} k_{b} v_{c} + f_{i} k_{a} k_{b} + k_{a} k_{b} v_{c}}$$"
      ],
      "text/plain": [
       "                         ⎛  2        2        2                               \n",
       "                    -k_c⋅⎝c₁ ⋅fᵢ - c₁ ⋅vₐ - c₁ ⋅v_b + c₁⋅fᵢ⋅kₐ + c₁⋅fᵢ⋅k_b - c\n",
       "──────────────────────────────────────────────────────────────────────────────\n",
       "  2        2        2         2                                               \n",
       "c₁ ⋅fᵢ - c₁ ⋅vₐ - c₁ ⋅v_b + c₁ ⋅v_c + c₁⋅fᵢ⋅kₐ + c₁⋅fᵢ⋅k_b - c₁⋅kₐ⋅v_b + c₁⋅kₐ\n",
       "\n",
       "                                ⎞                     \n",
       "₁⋅kₐ⋅v_b - c₁⋅k_b⋅vₐ + fᵢ⋅kₐ⋅k_b⎠                     \n",
       "──────────────────────────────────────────────────────\n",
       "                                                      \n",
       "⋅v_c - c₁⋅k_b⋅vₐ + c₁⋅k_b⋅v_c + fᵢ⋅kₐ⋅k_b + kₐ⋅k_b⋅v_c"
      ]
     },
     "execution_count": 3,
     "metadata": {},
     "output_type": "execute_result"
    }
   ],
   "source": [
    "c2"
   ]
  },
  {
   "cell_type": "code",
   "execution_count": 4,
   "metadata": {
    "collapsed": false
   },
   "outputs": [
    {
     "data": {
      "image/png": "[encoded data removed]",
      "text/latex": [
       "$$\\frac{1}{c_{1}^{2} + c_{1} k_{a} + c_{1} k_{b} + k_{a} k_{b}} \\left(c_{1}^{2} f_{i} - c_{1}^{2} v_{a} - c_{1}^{2} v_{b} + c_{1} f_{i} k_{a} + c_{1} f_{i} k_{b} - c_{1} k_{a} v_{b} - c_{1} k_{b} v_{a} + f_{i} k_{a} k_{b}\\right)$$"
      ],
      "text/plain": [
       "  2        2        2                                                         \n",
       "c₁ ⋅fᵢ - c₁ ⋅vₐ - c₁ ⋅v_b + c₁⋅fᵢ⋅kₐ + c₁⋅fᵢ⋅k_b - c₁⋅kₐ⋅v_b - c₁⋅k_b⋅vₐ + fᵢ⋅\n",
       "──────────────────────────────────────────────────────────────────────────────\n",
       "                             2                                                \n",
       "                           c₁  + c₁⋅kₐ + c₁⋅k_b + kₐ⋅k_b                      \n",
       "\n",
       "      \n",
       "kₐ⋅k_b\n",
       "──────\n",
       "      \n",
       "      "
      ]
     },
     "execution_count": 4,
     "metadata": {},
     "output_type": "execute_result"
    }
   ],
   "source": [
    "den1 = simplify(c2+kc)\n",
    "nom1 = simplify(-c2*vc)\n",
    "elem1 = simplify(nom1/den1)\n",
    "elem1"
   ]
  },
  {
   "cell_type": "code",
   "execution_count": 5,
   "metadata": {
    "collapsed": false
   },
   "outputs": [],
   "source": [
    "elem12 = simplify((c1+ka)*elem1)"
   ]
  },
  {
   "cell_type": "code",
   "execution_count": 6,
   "metadata": {
    "collapsed": false
   },
   "outputs": [
    {
     "name": "stdout",
     "output_type": "stream",
     "text": [
      "2*c_1*v_a - v_d*(c_1 + k_a)/(1 - k_d*(c_1**2*f_i - c_1**2*v_a - c_1**2*v_b + c_1**2*v_c + c_1*f_i*k_a + c_1*f_i*k_b - c_1*k_a*v_b + c_1*k_a*v_c - c_1*k_b*v_a + c_1*k_b*v_c + f_i*k_a*k_b + k_a*k_b*v_c)/(k_c*(c_1**2*f_i - c_1**2*v_a - c_1**2*v_b + c_1*f_i*k_a + c_1*f_i*k_b - c_1*k_a*v_b - c_1*k_b*v_a + f_i*k_a*k_b))) + (c_1**2*f_i - c_1**2*v_a - c_1**2*v_b + c_1*f_i*k_a + c_1*f_i*k_b - c_1*k_a*v_b - c_1*k_b*v_a + f_i*k_a*k_b)/(c_1 + k_b)\n"
     ]
    },
    {
     "data": {
      "image/png": "[encoded data removed]",
      "text/latex": [
       "$$2 c_{1} v_{a} - \\frac{v_{d} \\left(c_{1} + k_{a}\\right)}{1 - \\frac{k_{d} \\left(c_{1}^{2} f_{i} - c_{1}^{2} v_{a} - c_{1}^{2} v_{b} + c_{1}^{2} v_{c} + c_{1} f_{i} k_{a} + c_{1} f_{i} k_{b} - c_{1} k_{a} v_{b} + c_{1} k_{a} v_{c} - c_{1} k_{b} v_{a} + c_{1} k_{b} v_{c} + f_{i} k_{a} k_{b} + k_{a} k_{b} v_{c}\\right)}{k_{c} \\left(c_{1}^{2} f_{i} - c_{1}^{2} v_{a} - c_{1}^{2} v_{b} + c_{1} f_{i} k_{a} + c_{1} f_{i} k_{b} - c_{1} k_{a} v_{b} - c_{1} k_{b} v_{a} + f_{i} k_{a} k_{b}\\right)}} + \\frac{1}{c_{1} + k_{b}} \\left(c_{1}^{2} f_{i} - c_{1}^{2} v_{a} - c_{1}^{2} v_{b} + c_{1} f_{i} k_{a} + c_{1} f_{i} k_{b} - c_{1} k_{a} v_{b} - c_{1} k_{b} v_{a} + f_{i} k_{a} k_{b}\\right)$$"
      ],
      "text/plain": [
       "                                                                              \n",
       "                                                                          v_d⋅\n",
       "2⋅c₁⋅vₐ - ────────────────────────────────────────────────────────────────────\n",
       "                  ⎛  2        2        2         2                            \n",
       "              k_d⋅⎝c₁ ⋅fᵢ - c₁ ⋅vₐ - c₁ ⋅v_b + c₁ ⋅v_c + c₁⋅fᵢ⋅kₐ + c₁⋅fᵢ⋅k_b \n",
       "          1 - ────────────────────────────────────────────────────────────────\n",
       "                                          ⎛  2        2        2              \n",
       "                                      k_c⋅⎝c₁ ⋅fᵢ - c₁ ⋅vₐ - c₁ ⋅v_b + c₁⋅fᵢ⋅k\n",
       "\n",
       "                                                                              \n",
       "(c₁ + kₐ)                                                                    c\n",
       "────────────────────────────────────────────────────────────────────────── + ─\n",
       "                                                                         ⎞    \n",
       "- c₁⋅kₐ⋅v_b + c₁⋅kₐ⋅v_c - c₁⋅k_b⋅vₐ + c₁⋅k_b⋅v_c + fᵢ⋅kₐ⋅k_b + kₐ⋅k_b⋅v_c⎠    \n",
       "──────────────────────────────────────────────────────────────────────────    \n",
       "                                                 ⎞                            \n",
       "ₐ + c₁⋅fᵢ⋅k_b - c₁⋅kₐ⋅v_b - c₁⋅k_b⋅vₐ + fᵢ⋅kₐ⋅k_b⎠                            \n",
       "\n",
       " 2        2        2                                                          \n",
       "₁ ⋅fᵢ - c₁ ⋅vₐ - c₁ ⋅v_b + c₁⋅fᵢ⋅kₐ + c₁⋅fᵢ⋅k_b - c₁⋅kₐ⋅v_b - c₁⋅k_b⋅vₐ + fᵢ⋅k\n",
       "──────────────────────────────────────────────────────────────────────────────\n",
       "                                     c₁ + k_b                                 \n",
       "                                                                              \n",
       "                                                                              \n",
       "                                                                              \n",
       "                                                                              \n",
       "\n",
       "     \n",
       "ₐ⋅k_b\n",
       "─────\n",
       "     \n",
       "     \n",
       "     \n",
       "     \n",
       "     "
      ]
     },
     "execution_count": 6,
     "metadata": {},
     "output_type": "execute_result"
    }
   ],
   "source": [
    "expr2 = elem12+2*c1*va-(c1+ka)*vb2/(1+kb2/c2)\n",
    "expr2 = simplify(expr2)\n",
    "print(expr2)\n",
    "expr2"
   ]
  },
  {
   "cell_type": "code",
   "execution_count": 7,
   "metadata": {
    "collapsed": false
   },
   "outputs": [
    {
     "data": {
      "image/png": "[encoded data removed]",
      "text/latex": [
       "$$- \\frac{k_{c} v_{d} \\left(c_{1} + k_{a}\\right) \\left(c_{1}^{2} f_{i} - c_{1}^{2} v_{a} - c_{1}^{2} v_{b} + c_{1} f_{i} k_{a} + c_{1} f_{i} k_{b} - c_{1} k_{a} v_{b} - c_{1} k_{b} v_{a} + f_{i} k_{a} k_{b}\\right)}{k_{c} \\left(c_{1}^{2} f_{i} - c_{1}^{2} v_{a} - c_{1}^{2} v_{b} + c_{1} f_{i} k_{a} + c_{1} f_{i} k_{b} - c_{1} k_{a} v_{b} - c_{1} k_{b} v_{a} + f_{i} k_{a} k_{b}\\right) - k_{d} \\left(c_{1}^{2} f_{i} - c_{1}^{2} v_{a} - c_{1}^{2} v_{b} + c_{1}^{2} v_{c} + c_{1} f_{i} k_{a} + c_{1} f_{i} k_{b} - c_{1} k_{a} v_{b} + c_{1} k_{a} v_{c} - c_{1} k_{b} v_{a} + c_{1} k_{b} v_{c} + f_{i} k_{a} k_{b} + k_{a} k_{b} v_{c}\\right)}$$"
      ],
      "text/plain": [
       "                                                                              \n",
       "                                                               -k_c⋅v_d⋅(c₁ + \n",
       "──────────────────────────────────────────────────────────────────────────────\n",
       "    ⎛  2        2        2                                                    \n",
       "k_c⋅⎝c₁ ⋅fᵢ - c₁ ⋅vₐ - c₁ ⋅v_b + c₁⋅fᵢ⋅kₐ + c₁⋅fᵢ⋅k_b - c₁⋅kₐ⋅v_b - c₁⋅k_b⋅vₐ \n",
       "\n",
       "    ⎛  2        2        2                                                    \n",
       "kₐ)⋅⎝c₁ ⋅fᵢ - c₁ ⋅vₐ - c₁ ⋅v_b + c₁⋅fᵢ⋅kₐ + c₁⋅fᵢ⋅k_b - c₁⋅kₐ⋅v_b - c₁⋅k_b⋅vₐ \n",
       "──────────────────────────────────────────────────────────────────────────────\n",
       "           ⎞       ⎛  2        2        2         2                           \n",
       "+ fᵢ⋅kₐ⋅k_b⎠ - k_d⋅⎝c₁ ⋅fᵢ - c₁ ⋅vₐ - c₁ ⋅v_b + c₁ ⋅v_c + c₁⋅fᵢ⋅kₐ + c₁⋅fᵢ⋅k_b\n",
       "\n",
       "           ⎞                                                               \n",
       "+ fᵢ⋅kₐ⋅k_b⎠                                                               \n",
       "───────────────────────────────────────────────────────────────────────────\n",
       "                                                                          ⎞\n",
       " - c₁⋅kₐ⋅v_b + c₁⋅kₐ⋅v_c - c₁⋅k_b⋅vₐ + c₁⋅k_b⋅v_c + fᵢ⋅kₐ⋅k_b + kₐ⋅k_b⋅v_c⎠"
      ]
     },
     "execution_count": 7,
     "metadata": {},
     "output_type": "execute_result"
    }
   ],
   "source": [
    "elem3 = - vb2*(c1 + ka)*(kc*(c1**2*fi - c1**2*va - c1**2*vb + c1*fi*ka + c1*fi*kb - c1*ka*vb - c1*kb*va + fi*ka*kb))/((kc*(c1**2*fi - c1**2*va - c1**2*vb + c1*fi*ka + c1*fi*kb - c1*ka*vb - c1*kb*va + fi*ka*kb)) - kb2*(c1**2*fi - c1**2*va - c1**2*vb + c1**2*vc + c1*fi*ka + c1*fi*kb - c1*ka*vb + c1*ka*vc - c1*kb*va + c1*kb*vc + fi*ka*kb + ka*kb*vc))\n",
    "simplify(elem3)"
   ]
  },
  {
   "cell_type": "code",
   "execution_count": 9,
   "metadata": {
    "collapsed": false
   },
   "outputs": [
    {
     "name": "stdout",
     "output_type": "stream",
     "text": [
      "Poly((f_i**2*k_c - f_i**2*k_d - 2*f_i*k_c*v_b - f_i*k_c*v_d + 2*f_i*k_d*v_b - f_i*k_d*v_c - k_c*v_a**2 + k_c*v_a*v_d + k_c*v_b**2 + k_c*v_b*v_d + k_d*v_a**2 - k_d*v_a*v_c - k_d*v_b**2 + k_d*v_b*v_c)*c_1**4 + (2*f_i**2*k_a*k_c - 2*f_i**2*k_a*k_d + 2*f_i**2*k_b*k_c - 2*f_i**2*k_b*k_d - 4*f_i*k_a*k_c*v_b - 2*f_i*k_a*k_c*v_d + 4*f_i*k_a*k_d*v_b - 2*f_i*k_a*k_d*v_c - 2*f_i*k_b*k_c*v_b - 2*f_i*k_b*k_c*v_d + 2*f_i*k_b*k_d*v_b - 2*f_i*k_b*k_d*v_c + k_a*k_c*v_a*v_d + 2*k_a*k_c*v_b**2 + 2*k_a*k_c*v_b*v_d - k_a*k_d*v_a*v_c - 2*k_a*k_d*v_b**2 + 2*k_a*k_d*v_b*v_c - 2*k_b*k_c*v_a**2 + 2*k_b*k_c*v_a*v_d + k_b*k_c*v_b*v_d + 2*k_b*k_d*v_a**2 - 2*k_b*k_d*v_a*v_c + k_b*k_d*v_b*v_c)*c_1**3 + (f_i**2*k_a**2*k_c - f_i**2*k_a**2*k_d + 4*f_i**2*k_a*k_b*k_c - 4*f_i**2*k_a*k_b*k_d + f_i**2*k_b**2*k_c - f_i**2*k_b**2*k_d - 2*f_i*k_a**2*k_c*v_b - f_i*k_a**2*k_c*v_d + 2*f_i*k_a**2*k_d*v_b - f_i*k_a**2*k_d*v_c - 4*f_i*k_a*k_b*k_c*v_b - 4*f_i*k_a*k_b*k_c*v_d + 4*f_i*k_a*k_b*k_d*v_b - 4*f_i*k_a*k_b*k_d*v_c - f_i*k_b**2*k_c*v_d - f_i*k_b**2*k_d*v_c + k_a**2*k_c*v_b**2 + k_a**2*k_c*v_b*v_d - k_a**2*k_d*v_b**2 + k_a**2*k_d*v_b*v_c + 2*k_a*k_b*k_c*v_a*v_d + 2*k_a*k_b*k_c*v_b*v_d - 2*k_a*k_b*k_d*v_a*v_c + 2*k_a*k_b*k_d*v_b*v_c - k_b**2*k_c*v_a**2 + k_b**2*k_c*v_a*v_d + k_b**2*k_d*v_a**2 - k_b**2*k_d*v_a*v_c)*c_1**2 + (2*f_i**2*k_a**2*k_b*k_c - 2*f_i**2*k_a**2*k_b*k_d + 2*f_i**2*k_a*k_b**2*k_c - 2*f_i**2*k_a*k_b**2*k_d - 2*f_i*k_a**2*k_b*k_c*v_b - 2*f_i*k_a**2*k_b*k_c*v_d + 2*f_i*k_a**2*k_b*k_d*v_b - 2*f_i*k_a**2*k_b*k_d*v_c - 2*f_i*k_a*k_b**2*k_c*v_d - 2*f_i*k_a*k_b**2*k_d*v_c + k_a**2*k_b*k_c*v_b*v_d + k_a**2*k_b*k_d*v_b*v_c + k_a*k_b**2*k_c*v_a*v_d - k_a*k_b**2*k_d*v_a*v_c)*c_1 + f_i**2*k_a**2*k_b**2*k_c - f_i**2*k_a**2*k_b**2*k_d - f_i*k_a**2*k_b**2*k_c*v_d - f_i*k_a**2*k_b**2*k_d*v_c, c_1, domain='ZZ[f_i,k_a,k_b,k_c,k_d,v_a,v_b,v_c,v_d]')\n"
     ]
    }
   ],
   "source": [
    "expr2 = simplify(elem12*(c1+kb))+2*c1*va*(c1+kb)+elem3*(c1+kb)\n",
    "expr2 = simplify(expr2)\n",
    "nom2 = (-kc*vb2*(c1 + ka)*(c1 + kb)*(c1**2*fi - c1**2*va - c1**2*vb + c1*fi*ka + c1*fi*kb - c1*ka*vb - c1*kb*va + fi*ka*kb) + (kc*(c1**2*fi - c1**2*va - c1**2*vb + c1*fi*ka + c1*fi*kb - c1*ka*vb - c1*kb*va + fi*ka*kb) - kb2*(c1**2*fi - c1**2*va - c1**2*vb + c1**2*vc + c1*fi*ka + c1*fi*kb - c1*ka*vb + c1*ka*vc - c1*kb*va + c1*kb*vc + fi*ka*kb + ka*kb*vc))*(c1**2*fi - c1**2*va - c1**2*vb + c1*fi*ka + c1*fi*kb - c1*ka*vb - c1*kb*va + 2*c1*va*(c1 + kb) + fi*ka*kb))\n",
    "print(Poly(simplify(nom2),c1))"
   ]
  },
  {
   "cell_type": "code",
   "execution_count": null,
   "metadata": {
    "collapsed": false
   },
   "outputs": [],
   "source": [
    "((fi- vb)**2- va**2)*(kc - kd) + kc*vd*(va+vb-fi) + kd*vc*(fi+vb - va)"
   ]
  }
 ],
 "metadata": {
  "kernelspec": {
   "display_name": "Python 3",
   "language": "python",
   "name": "python3"
  },
  "language_info": {
   "codemirror_mode": {
    "name": "ipython",
    "version": 3
   },
   "file_extension": ".py",
   "mimetype": "text/x-python",
   "name": "python",
   "nbconvert_exporter": "python",
   "pygments_lexer": "ipython3",
   "version": "3.5.1"
  }
 },
 "nbformat": 4,
 "nbformat_minor": 0
}
